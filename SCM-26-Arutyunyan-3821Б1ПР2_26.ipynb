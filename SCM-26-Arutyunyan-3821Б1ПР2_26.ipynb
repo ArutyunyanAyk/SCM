{
 "cells": [
  {
   "cell_type": "markdown",
   "id": "b833c51a",
   "metadata": {},
   "source": [
    "## Арутюнян Айк 3821Б1ПР2"
   ]
  },
  {
   "cell_type": "markdown",
   "id": "9fbe0526",
   "metadata": {},
   "source": [
    "# 26. Нелинейный метод наименьших квадратов. Светимость звезды"
   ]
  },
  {
   "cell_type": "markdown",
   "id": "8cc0aa62",
   "metadata": {},
   "source": [
    "[Каханер–Моулер–Нэш] Сверхновой звезде типа I соответствует специальная модель светимости. Спустя несколько дней после максимума светимости эту модель можно описать так: 𝐿(𝑡)=𝐶1𝑒−𝑡/𝛼1+𝐶2𝑒−𝑡/𝛼2,\n",
    "\n",
    "где 𝑡 – время (в днях) с момента максимальной светимости, а 𝐿(𝑡) – светимость, относительно максимальной светимости. В таблице ниже приведены данные по относительной светимости для свехновой I939A6, полученные в 1936 г. Пик светимости приходится на день 0 , но наблюдения до дня 7.0 , опущены, так какуказанная модель не описывает светимости перед и непосредственно после максимума.\n",
    "\n",
    "t      L(t)    \n",
    "7.0 0.6310\n",
    "7.0 0.8318\n",
    "14.8 0.2754\n",
    "16.0 0.1445\n",
    "16.9 0.2089\n",
    "17.0 0.1585\n",
    "18.8 0.1585\n",
    "19.0 0.1318\n",
    "20.9 0.1585\n",
    "15.8 0.1096\n",
    "16.8 0.1445\n",
    "28.0 0.09120\n",
    "53.0 0.06310\n",
    "54.0 0.06918\n",
    "57.0 0.05754\n",
    "85.0 0.03631\n",
    "109.0 0.02291\n",
    "110.0 0.02291\n",
    "141.0 0.01738\n",
    "142.0 0.01585\n",
    "168.0 0.009120\n",
    "Нанести данные на график. Нелинейным методом наименьших квадратов найдите неизвестные параметры модели и постройте графики. Используйте различные начальные значения для 𝛼1 , 𝛼2 , 𝐶1 , 𝐶2 . Чему равна результирующая суммарная ошибка? Рассмотрите также аппроксимацию одной экспонентой - решите эту задачу сведя ее к линейной задаче наименьших квадратов. Сравните все результаты. Насколько чувствительны результирующие значения к начальным значениям?"
   ]
  },
  {
   "cell_type": "code",
   "execution_count": 1,
   "id": "4f8be1c0",
   "metadata": {},
   "outputs": [],
   "source": [
    "import matplotlib.pyplot as plt\n",
    "import math\n",
    "import numpy as np\n",
    "from scipy import linalg\n",
    "from scipy import optimize"
   ]
  },
  {
   "cell_type": "markdown",
   "id": "18f8e7d9",
   "metadata": {},
   "source": [
    "Нанесение данных на график:"
   ]
  },
  {
   "cell_type": "code",
   "execution_count": 2,
   "id": "d97d5b85",
   "metadata": {},
   "outputs": [
    {
     "data": {
      "text/plain": [
       "[<matplotlib.lines.Line2D at 0x212719e4700>]"
      ]
     },
     "execution_count": 2,
     "metadata": {},
     "output_type": "execute_result"
    },
    {
     "data": {
      "image/png": "[encoded data removed]",
      "text/plain": [
       "<Figure size 432x288 with 1 Axes>"
      ]
     },
     "metadata": {
      "needs_background": "light"
     },
     "output_type": "display_data"
    }
   ],
   "source": [
    "t = np.array([7.0, 7.0, 14.8, 16.0, 16.9, 17.0, 18.8, 19.0, 20.9, 15.8, 16.8, 28.0, 53.0, 54.0, 57.0, 85.0, 109.0,110.0,141.0, 142.0,168.0])\n",
    "L = np.array([0.6310, 0.8318, 0.2754, 0.1445, 0.2089,0.1585,0.1585,0.1318,0.1585,0.1096,0.1445,0.09120,0.06310,0.06918,0.05754,0.03631,0.02291,0.02291 ,0.01738,0.01585,0.009120])\n",
    "plt.grid()\n",
    "plt.plot(t, L, '.', color = 'tab:orange')"
   ]
  },
  {
   "cell_type": "markdown",
   "id": "4fbae730",
   "metadata": {},
   "source": [
    "Поиск неизвестных параметров нелинейным методом наименьших квадратов и построение графика"
   ]
  },
  {
   "cell_type": "code",
   "execution_count": 3,
   "id": "fd531e8b",
   "metadata": {},
   "outputs": [
    {
     "data": {
      "text/plain": [
       "(0.15975280972450118, 3.5662624699600376, 58.51405929626225, 3.890484999234576)"
      ]
     },
     "execution_count": 3,
     "metadata": {},
     "output_type": "execute_result"
    }
   ],
   "source": [
    "def L_t(t, C1, C2, a1, a2):\n",
    "    return C1*math.e**(-t/a1) + C2*math.e**(-t/a2)\n",
    "res, _ = optimize.curve_fit(L_t,t,L)\n",
    "C1, C2, a1,a2 = res\n",
    "C1, C2, a1,a2"
   ]
  },
  {
   "cell_type": "code",
   "execution_count": 4,
   "id": "04872eb2",
   "metadata": {},
   "outputs": [
    {
     "data": {
      "text/plain": [
       "[<matplotlib.lines.Line2D at 0x21271af3c40>]"
      ]
     },
     "execution_count": 4,
     "metadata": {},
     "output_type": "execute_result"
    },
    {
     "data": {
      "image/png": "[encoded data removed]",
      "text/plain": [
       "<Figure size 432x288 with 1 Axes>"
      ]
     },
     "metadata": {
      "needs_background": "light"
     },
     "output_type": "display_data"
    }
   ],
   "source": [
    "X_arr = np.linspace(np.min(t), np.max(t), 10000)\n",
    "Y_arr = L_t(X_arr, C1, C2, a1, a2)\n",
    "plt.grid()\n",
    "plt.plot(X_arr, Y_arr)\n",
    "plt.plot(t, L, \".\", color = 'tab:orange')"
   ]
  },
  {
   "cell_type": "markdown",
   "id": "43bfe743",
   "metadata": {},
   "source": [
    "Использование других начальных значений для С1, С2, а1, а2."
   ]
  },
  {
   "cell_type": "code",
   "execution_count": 15,
   "id": "e93d708e",
   "metadata": {},
   "outputs": [],
   "source": [
    "alternate_size = 30\n",
    "alternate_t = np.array([np.random.randint(1, 200) for i in range(alternate_size)])\n",
    "alternate_t.sort()\n",
    "alternate_L = np.array([np.random.rand() for i in range(alternate_size)])\n",
    "alternate_L.sort()\n",
    "alternate_L = alternate_L[::-1]"
   ]
  },
  {
   "cell_type": "code",
   "execution_count": 18,
   "id": "795391e3",
   "metadata": {},
   "outputs": [
    {
     "data": {
      "text/plain": [
       "(0.6284736255410589,\n",
       " 0.43156683740145535,\n",
       " 90.93984245928745,\n",
       " 16.128367215442566)"
      ]
     },
     "execution_count": 18,
     "metadata": {},
     "output_type": "execute_result"
    }
   ],
   "source": [
    "def alternate_L_t(alternate_t, C1, C2, a1, a2):\n",
    "    return C1*math.e**(-alternate_t/a1) + C2*math.e**(-alternate_t/a2)\n",
    "res, _ = optimize.curve_fit(alternate_L_t,alternate_t,alternate_L)\n",
    "C1, C2, a1,a2 = res\n",
    "C1, C2, a1,a2"
   ]
  },
  {
   "cell_type": "code",
   "execution_count": 7,
   "id": "33736714",
   "metadata": {},
   "outputs": [
    {
     "data": {
      "text/plain": [
       "[<matplotlib.lines.Line2D at 0x2127230d0d0>]"
      ]
     },
     "execution_count": 7,
     "metadata": {},
     "output_type": "execute_result"
    },
    {
     "data": {
      "image/png": "[encoded data removed]",
      "text/plain": [
       "<Figure size 432x288 with 1 Axes>"
      ]
     },
     "metadata": {
      "needs_background": "light"
     },
     "output_type": "display_data"
    }
   ],
   "source": [
    "alternate_X_arr = np.linspace(np.min(alternate_t), np.max(alternate_t), 10000)\n",
    "alternate_Y_arr = alternate_L_t(alternate_X_arr, C1, C2, a1, a2)\n",
    "plt.grid()\n",
    "plt.plot(alternate_X_arr, alternate_Y_arr)\n",
    "plt.plot(alternate_t, alternate_L, \".\", color = 'tab:orange')"
   ]
  },
  {
   "cell_type": "markdown",
   "id": "3d5ebd09",
   "metadata": {},
   "source": [
    "Апроксимация одной экспонентой"
   ]
  },
  {
   "cell_type": "code",
   "execution_count": 19,
   "id": "84521866",
   "metadata": {},
   "outputs": [
    {
     "data": {
      "text/plain": [
       "(8.078306231310245, 5.74676198224591)"
      ]
     },
     "execution_count": 19,
     "metadata": {},
     "output_type": "execute_result"
    }
   ],
   "source": [
    "def L_t_e(t,a1, a2):\n",
    "    return math.e**(-t/a1) + math.e**(-t/a2)\n",
    "res, _ = optimize.curve_fit(L_t_e,t,L)\n",
    "a1,a2 = res\n",
    "a1,a2"
   ]
  },
  {
   "cell_type": "code",
   "execution_count": 20,
   "id": "6e23a119",
   "metadata": {},
   "outputs": [
    {
     "data": {
      "text/plain": [
       "[<matplotlib.lines.Line2D at 0x21272381d00>]"
      ]
     },
     "execution_count": 20,
     "metadata": {},
     "output_type": "execute_result"
    },
    {
     "data": {
      "image/png": "[encoded data removed]",
      "text/plain": [
       "<Figure size 432x288 with 1 Axes>"
      ]
     },
     "metadata": {
      "needs_background": "light"
     },
     "output_type": "display_data"
    }
   ],
   "source": [
    "alternate_X_arr = np.linspace(np.min(t), np.max(t), 10000)\n",
    "alternate_Y_arr = L_t_e(alternate_X_arr, a1, a2)\n",
    "plt.grid()\n",
    "plt.plot(alternate_X_arr, alternate_Y_arr)\n",
    "plt.plot(t, L, \".\", color = 'tab:orange')"
   ]
  },
  {
   "cell_type": "markdown",
   "id": "82c27bc4",
   "metadata": {},
   "source": [
    "Апроксимация одной экспонентой для альтернативных значений"
   ]
  },
  {
   "cell_type": "code",
   "execution_count": 41,
   "id": "1538b0ff",
   "metadata": {},
   "outputs": [
    {
     "data": {
      "text/plain": [
       "(56.65177502033353, 0.047872559341679666)"
      ]
     },
     "execution_count": 41,
     "metadata": {},
     "output_type": "execute_result"
    }
   ],
   "source": [
    "def alternate_L_t_e(alternate_t, a1, a2):\n",
    "    return math.e**(-alternate_t/a1) + math.e**(-alternate_t/a2)\n",
    "res, _ = optimize.curve_fit(alternate_L_t_e,alternate_t,alternate_L)\n",
    "a1,a2 = res\n",
    "a1,a2"
   ]
  },
  {
   "cell_type": "code",
   "execution_count": 26,
   "id": "b6834b9c",
   "metadata": {},
   "outputs": [
    {
     "data": {
      "text/plain": [
       "[<matplotlib.lines.Line2D at 0x212734c0130>]"
      ]
     },
     "execution_count": 26,
     "metadata": {},
     "output_type": "execute_result"
    },
    {
     "data": {
      "image/png": "[encoded data removed]",
      "text/plain": [
       "<Figure size 432x288 with 1 Axes>"
      ]
     },
     "metadata": {
      "needs_background": "light"
     },
     "output_type": "display_data"
    }
   ],
   "source": [
    "alternate_X_arr = np.linspace(np.min(alternate_t), np.max(alternate_t), 10000)\n",
    "alternate_Y_arr = alternate_L_t_e(alternate_X_arr, a1, a2)\n",
    "plt.grid()\n",
    "plt.plot(alternate_X_arr, alternate_Y_arr)\n",
    "plt.plot(alternate_t, alternate_L, \".\", color = 'tab:orange')"
   ]
  },
  {
   "cell_type": "markdown",
   "id": "719c2498",
   "metadata": {},
   "source": [
    "Сумарная результирующая ошибка"
   ]
  },
  {
   "cell_type": "code",
   "execution_count": 31,
   "id": "4c2db343",
   "metadata": {},
   "outputs": [
    {
     "data": {
      "text/plain": [
       "0.32562976765112"
      ]
     },
     "execution_count": 31,
     "metadata": {},
     "output_type": "execute_result"
    }
   ],
   "source": [
    "np.sqrt(np.sum(L_t(t, C1, C2, a1, a2)/len(t))**2) #Начальные значения"
   ]
  },
  {
   "cell_type": "code",
   "execution_count": 32,
   "id": "e765eb5a",
   "metadata": {},
   "outputs": [
    {
     "data": {
      "text/plain": [
       "0.2581985896934092"
      ]
     },
     "execution_count": 32,
     "metadata": {},
     "output_type": "execute_result"
    }
   ],
   "source": [
    "np.sqrt(np.sum(alternate_L_t(alternate_t, C1, C2, a1, a2)/len(alternate_t))**2) #Альтернативные значения"
   ]
  },
  {
   "cell_type": "code",
   "execution_count": 33,
   "id": "f70642ce",
   "metadata": {},
   "outputs": [
    {
     "data": {
      "text/plain": [
       "0.51812797612753"
      ]
     },
     "execution_count": 33,
     "metadata": {},
     "output_type": "execute_result"
    }
   ],
   "source": [
    "np.sqrt(np.sum(L_t_e(t, a1, a2)/len(t))**2) #Начальные значения по экспоненте"
   ]
  },
  {
   "cell_type": "code",
   "execution_count": 34,
   "id": "3cf9a65a",
   "metadata": {},
   "outputs": [
    {
     "data": {
      "text/plain": [
       "0.41083440768277846"
      ]
     },
     "execution_count": 34,
     "metadata": {},
     "output_type": "execute_result"
    }
   ],
   "source": [
    "np.sqrt(np.sum(alternate_L_t_e(alternate_t, a1, a2)/len(alternate_t))**2) #Альтернативные значения по экспоненте"
   ]
  },
  {
   "cell_type": "markdown",
   "id": "36562876",
   "metadata": {},
   "source": [
    "Насколько чувствительны результирующие значения к начальным значениям?"
   ]
  },
  {
   "cell_type": "code",
   "execution_count": 35,
   "id": "ab245de3",
   "metadata": {},
   "outputs": [],
   "source": [
    "# При увеличении количества входных значений увеличивается точность"
   ]
  }
 ],
 "metadata": {
  "kernelspec": {
   "display_name": "Python 3 (ipykernel)",
   "language": "python",
   "name": "python3"
  },
  "language_info": {
   "codemirror_mode": {
    "name": "ipython",
    "version": 3
   },
   "file_extension": ".py",
   "mimetype": "text/x-python",
   "name": "python",
   "nbconvert_exporter": "python",
   "pygments_lexer": "ipython3",
   "version": "3.9.7"
  }
 },
 "nbformat": 4,
 "nbformat_minor": 5
}
